{
 "cells": [
  {
   "cell_type": "markdown",
   "metadata": {},
   "source": [
    "# <span style=\"color:#1aa353; font: helvetica\"> Pet Care Startup Analysis</span>\n",
    "\n",
    "---\n",
    "### Table of Contents\n",
    "* [Introduction](#Introduction)\n",
    "    * [Background](#Bg)\n",
    "    * [Setup Import and Database Connection](#imports)\n",
    "    \n",
    "* [Analysis](#analysis)\n",
    "    * [Recent Booking Rate](#RBRA)\n",
    "    * [Take Rate](#TRA)\n",
    "    * [Search Engine Marketing](#SEMA)\n",
    "* [Conclution](#conc)\n",
    "    \n",
    "* [Appendix](#app)\n",
    "    * Database\n",
    "    * Code"
   ]
  },
  {
   "cell_type": "markdown",
   "metadata": {},
   "source": [
    "## <span style=\"color:#1aa353; font: helvetica\">Introduction</span> <a id='Introduction'></a> \n",
    "---\n",
    "### Background\n",
    "\n",
    "\n",
    "\n",
    "### Setup Imports and Database Connection <a id='setup'></a> "
   ]
  },
  {
   "cell_type": "code",
   "execution_count": 17,
   "metadata": {
    "scrolled": false
   },
   "outputs": [],
   "source": [
    "import sqlite3\n",
    "import os\n",
    "\n",
    "from datetime import datetime\n",
    "import pandas as pd\n",
    "import numpy as np\n",
    "import matplotlib.pyplot as plt\n",
    "\n",
    "# Create a default path to the database db1.sqlite3\n",
    "DEFAULT_PATH = os.path.join(os.getcwd(),'db1.sqlite3');\n",
    "\n",
    "# Establish a connection to the database \n",
    "conn = sqlite3.connect(DEFAULT_PATH)\n",
    "\n",
    "# Create cursor object\n",
    "cur = conn.cursor()"
   ]
  },
  {
   "cell_type": "markdown",
   "metadata": {
    "collapsed": true,
    "scrolled": false
   },
   "source": [
    "## <span style=\"color:#1aa353; font: helvetica\"> Analysis</span> <a id='analysis'></a> \n",
    "---\n",
    "\n",
    "This section analyzes three cases based on the data in the database."
   ]
  },
  {
   "cell_type": "markdown",
   "metadata": {
    "collapsed": true,
    "scrolled": false
   },
   "source": [
    "### Recent Booking Rate <a id='RBRA'></a>  \n",
    "\n",
    "> The snapshot of this database was taken on `2018-08-02` at midnight and only contains data reflecting events prior to that date. A junior analyst is investigating daily booking rate during the days prior to the snapshot and is concerned about an apparent downward trend. \n",
    "\n",
    "* [Data Set](#ds1)     \n",
    "* [Analysis](#ana1)         \n",
    "* Summary"
   ]
  },
  {
   "cell_type": "markdown",
   "metadata": {},
   "source": [
    "#### Data Set <a id='ds1'></a> \n",
    "In this case, we need to look into the `conversations_conversation` table to find out the amount of booking and conversation events for each day."
   ]
  },
  {
   "cell_type": "code",
   "execution_count": 2,
   "metadata": {
    "scrolled": false
   },
   "outputs": [
    {
     "name": "stdout",
     "output_type": "stream",
     "text": [
      "(1, '2018-07-26', '2018-07-31', 5, '2018-07-16 10:17:53.460035', 120, None, 64393, 4646, None, None)\n",
      "(2, '2018-08-10', '2018-08-16', 6, '2018-08-01 10:20:48.626868', 132, None, 64392, 10126, None, None)\n",
      "(3, '2018-06-16', '2018-06-19', 3, '2018-06-05 16:46:39.542467', 168, None, 64391, 20677, None, None)\n",
      "(4, '2018-07-13', '2018-07-20', 7, '2018-07-02 09:12:22.275923', 490, None, 64391, 3847, None, None)\n",
      "(5, '2018-07-02', '2018-07-07', 5, '2018-06-21 16:02:48.694725', 140, None, 64389, 9982, None, None)\n",
      "(6, '2018-07-04', '2018-07-07', 3, '2018-06-23 16:16:16.891344', 78, None, 64388, 14772, '2018-06-27 14:39:51.433544', None)\n",
      "(7, '2018-07-31', '2018-08-04', 4, '2018-07-21 04:55:57.951572', 100, None, 64386, 14783, '2018-07-22 02:50:20.676664', None)\n",
      "(8, '2018-07-03', '2018-07-08', 5, '2018-06-25 20:35:54.744353', 280, None, 64385, 19407, None, None)\n",
      "(9, '2018-07-02', '2018-07-03', 1, '2018-06-21 06:23:08.092389', 23, None, 64384, 7656, '2018-06-23 01:49:33.596667', None)\n",
      "(10, '2018-08-03', '2018-08-05', 2, '2018-07-25 07:41:30.638993', 38, None, 64383, 18615, None, None)\n"
     ]
    }
   ],
   "source": [
    "def show_conversations():    \n",
    "    cur.execute(\"SELECT * \\\n",
    "                 FROM conversations_conversation \\\n",
    "                 LIMIT 10\")\n",
    "    rows = cur.fetchall()\n",
    " \n",
    "    for row in rows:\n",
    "        print(row)\n",
    "\n",
    "show_conversations();"
   ]
  },
  {
   "cell_type": "markdown",
   "metadata": {},
   "source": [
    "#### Analysis <a id='ana1'></a> \n",
    "> 1. First, let's reproduce their results. They tell you that daily booking rate is defined to be the percentage of conversations created each day that eventually book. What is the daily booking rate for each of the 90 days prior to the snapshot? Is there a downward trend?\n"
   ]
  },
  {
   "cell_type": "code",
   "execution_count": 3,
   "metadata": {
    "scrolled": true
   },
   "outputs": [
    {
     "name": "stdout",
     "output_type": "stream",
     "text": [
      "('2018-05-04', 44.70046082949309)\n",
      "('2018-05-05', 44.690265486725664)\n",
      "('2018-05-06', 44.78260869565217)\n",
      "('2018-05-07', 48.54368932038835)\n",
      "('2018-05-08', 40.70796460176991)\n",
      "('2018-05-09', 38.64734299516908)\n",
      "('2018-05-10', 43.21608040201005)\n",
      "('2018-05-11', 44.97607655502392)\n",
      "('2018-05-12', 38.35616438356164)\n",
      "('2018-05-13', 47.0873786407767)\n",
      "('2018-05-14', 43.54066985645933)\n",
      "('2018-05-15', 43.111111111111114)\n",
      "('2018-05-16', 40.56603773584906)\n",
      "('2018-05-17', 50.0)\n",
      "('2018-05-18', 43.81443298969072)\n",
      "('2018-05-19', 44.339622641509436)\n",
      "('2018-05-20', 44.97607655502392)\n",
      "('2018-05-21', 41.78403755868545)\n",
      "('2018-05-22', 45.77777777777778)\n",
      "('2018-05-23', 37.65182186234818)\n",
      "('2018-05-24', 51.89393939393939)\n",
      "('2018-05-25', 44.44444444444444)\n",
      "('2018-05-26', 46.91943127962085)\n",
      "('2018-05-27', 45.77777777777778)\n",
      "('2018-05-28', 41.666666666666664)\n",
      "('2018-05-29', 50.0)\n",
      "('2018-05-30', 41.338582677165356)\n",
      "('2018-05-31', 39.76833976833977)\n",
      "('2018-06-01', 44.10480349344978)\n",
      "('2018-06-02', 44.03669724770642)\n",
      "('2018-06-03', 44.13145539906103)\n",
      "('2018-06-04', 45.45454545454545)\n",
      "('2018-06-05', 46.2882096069869)\n",
      "('2018-06-06', 47.674418604651166)\n",
      "('2018-06-07', 40.36697247706422)\n",
      "('2018-06-08', 38.91050583657587)\n",
      "('2018-06-09', 41.70040485829959)\n",
      "('2018-06-10', 51.181102362204726)\n",
      "('2018-06-11', 41.96078431372549)\n",
      "('2018-06-12', 47.67932489451477)\n",
      "('2018-06-13', 43.7007874015748)\n",
      "('2018-06-14', 46.125461254612546)\n",
      "('2018-06-15', 39.41908713692946)\n",
      "('2018-06-16', 42.803030303030305)\n",
      "('2018-06-17', 42.21311475409836)\n",
      "('2018-06-18', 42.971887550200805)\n",
      "('2018-06-19', 43.62139917695473)\n",
      "('2018-06-20', 41.08527131782946)\n",
      "('2018-06-21', 41.43426294820717)\n",
      "('2018-06-22', 47.107438016528924)\n",
      "('2018-06-23', 43.881856540084385)\n",
      "('2018-06-24', 43.388429752066116)\n",
      "('2018-06-25', 38.90909090909091)\n",
      "('2018-06-26', 39.33054393305439)\n",
      "('2018-06-27', 42.29390681003584)\n",
      "('2018-06-28', 44.074074074074076)\n",
      "('2018-06-29', 43.02325581395349)\n",
      "('2018-06-30', 45.0)\n",
      "('2018-07-01', 42.42424242424242)\n",
      "('2018-07-02', 42.80442804428044)\n",
      "('2018-07-03', 47.89272030651341)\n",
      "('2018-07-04', 46.875)\n",
      "('2018-07-05', 43.84615384615385)\n",
      "('2018-07-06', 42.69662921348315)\n",
      "('2018-07-07', 44.31372549019608)\n",
      "('2018-07-08', 46.101694915254235)\n",
      "('2018-07-09', 48.421052631578945)\n",
      "('2018-07-10', 41.544117647058826)\n",
      "('2018-07-11', 39.27272727272727)\n",
      "('2018-07-12', 38.429752066115704)\n",
      "('2018-07-13', 48.43205574912892)\n",
      "('2018-07-14', 41.54929577464789)\n",
      "('2018-07-15', 39.568345323741006)\n",
      "('2018-07-16', 49.290780141843975)\n",
      "('2018-07-17', 44.554455445544555)\n",
      "('2018-07-18', 40.3448275862069)\n",
      "('2018-07-19', 44.765342960288805)\n",
      "('2018-07-20', 44.71830985915493)\n",
      "('2018-07-21', 48.33948339483395)\n",
      "('2018-07-22', 47.58620689655172)\n",
      "('2018-07-23', 49.8220640569395)\n",
      "('2018-07-24', 44.98141263940521)\n",
      "('2018-07-25', 46.04810996563574)\n",
      "('2018-07-26', 39.57597173144876)\n",
      "('2018-07-27', 43.50877192982456)\n",
      "('2018-07-28', 38.064516129032256)\n",
      "('2018-07-29', 31.086142322097377)\n",
      "('2018-07-30', 18.75)\n",
      "('2018-07-31', 12.418300653594772)\n",
      "('2018-08-01', 4.929577464788732)\n"
     ]
    }
   ],
   "source": [
    "# start_date: \n",
    "# end_date:\n",
    "\n",
    "def daily_booking_rate():    \n",
    "    cur.execute(\"SELECT DATE(added), 100.0 * COUNT(DISTINCT booked_at) / COUNT(*) \\\n",
    "                 FROM conversations_conversation \\\n",
    "                 WHERE DATE(added) >= DATE('2018-08-02', '-90 days') \\\n",
    "                 GROUP BY 1\")\n",
    "    rows = cur.fetchall()\n",
    " \n",
    "    for row in rows:\n",
    "        print(row)\n",
    "\n",
    "daily_booking_rate();"
   ]
  },
  {
   "cell_type": "markdown",
   "metadata": {
    "slideshow": {
     "slide_type": "-"
    }
   },
   "source": [
    "Let's plot the data:"
   ]
  },
  {
   "cell_type": "code",
   "execution_count": null,
   "metadata": {},
   "outputs": [],
   "source": []
  },
  {
   "cell_type": "markdown",
   "metadata": {},
   "source": [
    "> 2. Can you narrate a reason why this trend exists? Is there a reason to be concerned? Please provide additional data and evidence to justify your position."
   ]
  },
  {
   "cell_type": "markdown",
   "metadata": {},
   "source": [
    "Even though the trend does exist, there is no need to worry about it because it is due to the cutoff of the database. \n",
    "\n",
    "Now, let's run another test to see the average time for a conversation to convert to a booking event."
   ]
  },
  {
   "cell_type": "code",
   "execution_count": null,
   "metadata": {},
   "outputs": [],
   "source": []
  },
  {
   "cell_type": "markdown",
   "metadata": {
    "collapsed": true,
    "scrolled": false
   },
   "source": [
    "### Take Rate Analysis <a id='TRA'></a> \n",
    "> Each user has a fee associated with their account (recorded on people_person). If that user books as an owner, the company charges a service fee (in addition to the booking total) that is a percentage of the booking total (to a maximum of \\$50). Also, each service has a fee amount (recorded on services_service). Before a provider receives their payment, the company takes a percentage of the booking total as dictated by that fee. As an example, suppose an owner has a fee amount of 5% and books with a service that has a fee amount of 15%. If the booking was for \\$100, then the owner would get charged \\$105 (adding the ownerʼs fee). The \\$5 owner fee would go to the company. An additional \\$15 would also go to the company since the service had a 15% fee associated to it. The remaining \\$85 would go to the provider. To summarize: \n",
    "\n",
    "|             |Amount| Description                     |\n",
    "| :------------    |---   | :-------------------------:     |\n",
    "| Booking Total    | \\$100| e.g., 4 walks at \\$25/walk      | \n",
    "| Owner Fee        | \\$5  | 5% of the booking total         |\n",
    "| Gross Billings   | \\$105| charged to the owner            |   \n",
    "| Service Fee      | \\$15 | 15% of the booking total        |\n",
    "| Net Revenue      | \\$20 | all fees that go to the company |\n",
    "| Provider Payment | \\$85 | earnings for the provider       |\n",
    "\n",
    "\n",
    "* [Data Set](#ds2)        \n",
    "* [Analysis](#ana2)         \n",
    "* Summary"
   ]
  },
  {
   "cell_type": "markdown",
   "metadata": {},
   "source": [
    "#### Data Set <a id='ds2'></a> \n",
    "In this analysis, we need to look into three tables: \n",
    "1. `people_person`:              to determine the owner fee\n",
    "2. `services_service`:           to determine the service fee\n",
    "3. `conversations_conversation`: to determine the booking total and related user id."
   ]
  },
  {
   "cell_type": "code",
   "execution_count": 4,
   "metadata": {
    "scrolled": true
   },
   "outputs": [
    {
     "name": "stdout",
     "output_type": "stream",
     "text": [
      "(1, 'Leanora', 'Allcock', 'leanora.allcock635@hotmail.com', '', '2016-08-02 14:59:15.095591', 'https://placekitten.com/242/269', 0, 'f')\n",
      "(2, 'Elroy', 'Blanding', 'elroy.blanding510@yahoo.com', '', '2016-08-02 18:15:30.105940', 'https://placekitten.com/373/320', 0, 'm')\n",
      "(3, 'Jeanice', 'Aleman', 'jeanice.aleman392@hotmail.com', '', '2016-08-02 16:11:09.542004', 'https://placekitten.com/238/264', 0, 'f')\n",
      "(4, 'Tamala', 'Polhamus', 'tamala.polhamus146@aol.com', '', '2016-08-02 18:02:40.389299', 'https://placekitten.com/220/223', 0, 'f')\n",
      "(5, 'Alethea', 'Gubler', 'alethea.gubler708@aol.com', '', '2016-08-02 14:31:53.163034', 'https://placekitten.com/284/339', 0, 'f')\n",
      "(6, 'Milly', 'Degre', 'milly.degre525@rover.com', '', '2016-08-02 12:47:16.876553', 'https://placekitten.com/396/278', 0, 'f')\n",
      "(7, 'Yvonne', 'Guiney', 'yvonne.guiney923@aol.com', '', '2016-08-02 11:00:13.934802', 'https://placekitten.com/324/200', 0, 'f')\n",
      "(8, 'Irving', 'Kaetzel', 'irving.kaetzel198@aol.com', '', '2016-08-02 16:34:45.652757', 'https://placekitten.com/277/298', 0, 'm')\n",
      "(9, 'Alba', 'Hanagami', 'alba.hanagami642@aol.com', '', '2016-08-02 10:14:31.431132', 'https://placekitten.com/253/335', 0, 'f')\n",
      "(10, 'Edna', 'Flournay', 'edna.flournay993@hotmail.com', '', '2016-08-02 13:22:15.629846', 'https://placekitten.com/288/209', 0, 'f')\n"
     ]
    }
   ],
   "source": [
    "def show_people():    \n",
    "    cur.execute(\"SELECT * FROM people_person LIMIT 10\")\n",
    "    rows = cur.fetchall()\n",
    " \n",
    "    for row in rows:\n",
    "        print(row)\n",
    "\n",
    "show_people();"
   ]
  },
  {
   "cell_type": "code",
   "execution_count": 5,
   "metadata": {},
   "outputs": [
    {
     "name": "stdout",
     "output_type": "stream",
     "text": [
      "(1, 'boarding', 'strict', 1, 1, 1, 1, 0, 1, 1, 1, 4, 1, 0.15, 35, '2016-08-02 14:59:15.095591')\n",
      "(2, 'dog-walking', 'strict', 1, 0, 1, 1, 0, 0, 1, 1, 5, 1, 0.15, 26, '2016-08-02 14:59:15.095591')\n",
      "(3, 'boarding', 'moderate', 0, 0, 1, 0, 0, 0, 1, 1, 2, 2, 0.15, 31, '2016-08-02 18:15:30.105940')\n",
      "(4, 'dog-walking', 'strict', 1, 0, 1, 0, 1, 0, 0, 1, 5, 2, 0.15, 27, '2016-08-02 18:15:30.105940')\n",
      "(5, 'day-care', 'strict', 1, 0, 1, 1, 0, 1, 1, 1, 5, 2, 0.15, 30, '2016-08-02 18:15:30.105940')\n",
      "(6, 'dog-walking', 'flexible', 1, 0, 1, 0, 1, 1, 0, 1, 7, 3, 0.15, 20, '2016-08-02 16:11:09.542004')\n",
      "(7, 'dog-walking', 'strict', 0, 1, 0, 0, 1, 1, 1, 1, 7, 4, 0.15, 20, '2016-08-02 18:02:40.389299')\n",
      "(8, 'day-care', 'flexible', 1, 0, 1, 0, 1, 1, 1, 1, 4, 4, 0.15, 24, '2016-08-02 18:02:40.389299')\n",
      "(9, 'boarding', 'strict', 1, 0, 1, 0, 1, 1, 0, 0, 3, 5, 0.15, 34, '2016-08-02 14:31:53.163034')\n",
      "(10, 'dog-walking', 'strict', 1, 0, 1, 0, 1, 1, 0, 1, 2, 5, 0.15, 20, '2016-08-02 14:31:53.163034')\n"
     ]
    }
   ],
   "source": [
    "def show_services():    \n",
    "    cur.execute(\"SELECT * FROM services_service LIMIT 10\")\n",
    "    rows = cur.fetchall()\n",
    " \n",
    "    for row in rows:\n",
    "        print(row)\n",
    "\n",
    "show_services();"
   ]
  },
  {
   "cell_type": "code",
   "execution_count": 6,
   "metadata": {},
   "outputs": [
    {
     "name": "stdout",
     "output_type": "stream",
     "text": [
      "(1, '2018-07-26', '2018-07-31', 5, '2018-07-16 10:17:53.460035', 120, None, 64393, 4646, None, None)\n",
      "(2, '2018-08-10', '2018-08-16', 6, '2018-08-01 10:20:48.626868', 132, None, 64392, 10126, None, None)\n",
      "(3, '2018-06-16', '2018-06-19', 3, '2018-06-05 16:46:39.542467', 168, None, 64391, 20677, None, None)\n",
      "(4, '2018-07-13', '2018-07-20', 7, '2018-07-02 09:12:22.275923', 490, None, 64391, 3847, None, None)\n",
      "(5, '2018-07-02', '2018-07-07', 5, '2018-06-21 16:02:48.694725', 140, None, 64389, 9982, None, None)\n",
      "(6, '2018-07-04', '2018-07-07', 3, '2018-06-23 16:16:16.891344', 78, None, 64388, 14772, '2018-06-27 14:39:51.433544', None)\n",
      "(7, '2018-07-31', '2018-08-04', 4, '2018-07-21 04:55:57.951572', 100, None, 64386, 14783, '2018-07-22 02:50:20.676664', None)\n",
      "(8, '2018-07-03', '2018-07-08', 5, '2018-06-25 20:35:54.744353', 280, None, 64385, 19407, None, None)\n",
      "(9, '2018-07-02', '2018-07-03', 1, '2018-06-21 06:23:08.092389', 23, None, 64384, 7656, '2018-06-23 01:49:33.596667', None)\n",
      "(10, '2018-08-03', '2018-08-05', 2, '2018-07-25 07:41:30.638993', 38, None, 64383, 18615, None, None)\n"
     ]
    }
   ],
   "source": [
    "show_conversations();"
   ]
  },
  {
   "cell_type": "markdown",
   "metadata": {},
   "source": [
    "#### Analysis <a id='ana2'></a> \n",
    "\n",
    "> 1. In each month, what were the gross billings and net revenue?"
   ]
  },
  {
   "cell_type": "code",
   "execution_count": 44,
   "metadata": {},
   "outputs": [],
   "source": [
    "def to_date_value(query):\n",
    "    dates = []\n",
    "    billings = []\n",
    "    \n",
    "    for row in query:\n",
    "        # Append date year, month, 1\n",
    "        dates.append( datetime(int(row[0]), int(row[1]), 1))\n",
    "        billings.append( float(row[2]) )\n",
    "        \n",
    "    return dates, billings\n",
    "    "
   ]
  },
  {
   "cell_type": "code",
   "execution_count": 46,
   "metadata": {},
   "outputs": [
    {
     "data": {
      "image/png": "[encoded data removed]",
      "text/plain": [
       "<Figure size 720x360 with 1 Axes>"
      ]
     },
     "metadata": {},
     "output_type": "display_data"
    }
   ],
   "source": [
    "from datetime import datetime\n",
    "def get_monthly_gross_billings():    \n",
    "    cur.execute(\"SELECT strftime('%Y', added) AS year \\\n",
    "                        ,strftime('%m',added) AS month \\\n",
    "                        ,SUM(booking_total + MIN(1.0 * pp.fee * booking_total, 50)) AS 'Gross Billings' \\\n",
    "                 FROM conversations_conversation cc \\\n",
    "                 LEFT JOIN people_person pp \\\n",
    "                 ON cc.requester_id = pp.id \\\n",
    "                 WHERE booked_at IS NOT NULL \\\n",
    "                     AND cancelled_at IS NULL\\\n",
    "                 GROUP BY 1, 2 \\\n",
    "                 ORDER BY 1 ASC, 2 ASC\")\n",
    "    rows = cur.fetchall()\n",
    " \n",
    "    return rows\n",
    "\n",
    "MGB = get_monthly_gross_billings()\n",
    "\n",
    "# Convert query to datetime objects and values\n",
    "dates, billings = to_date_value(MGB)\n",
    "\n",
    "figure, axis = plt.subplots(figsize=(10,5))\n",
    "# Set x-axis as date\n",
    "axis.xaxis_date()\n",
    "\n",
    "# Plot billings vs. date\n",
    "plt.plot(dates, billings)\n",
    "plt.ylabel('Gross Billings ($)')\n",
    "\n",
    "# Limit x-range by data\n",
    "plt.xlim(dates[0], dates[-1])\n",
    "plt.ylim(0)\n",
    "\n",
    "plt.show()"
   ]
  },
  {
   "cell_type": "code",
   "execution_count": 8,
   "metadata": {},
   "outputs": [
    {
     "name": "stdout",
     "output_type": "stream",
     "text": [
      "('2016', '08', 892.84)\n",
      "('2016', '09', 2976.0199999999995)\n",
      "('2016', '10', 5088.269999999998)\n",
      "('2016', '11', 6284.390000000001)\n",
      "('2016', '12', 8589.08)\n",
      "('2017', '01', 13537.439999999997)\n",
      "('2017', '02', 16369.119999999999)\n",
      "('2017', '03', 21959.789999999997)\n",
      "('2017', '04', 22654.389999999992)\n",
      "('2017', '05', 29671.609999999986)\n",
      "('2017', '06', 32386.030000000013)\n",
      "('2017', '07', 37979.04999999999)\n",
      "('2017', '08', 43639.89999999998)\n",
      "('2017', '09', 51398.21)\n",
      "('2017', '10', 60971.66999999995)\n",
      "('2017', '11', 60342.059999999976)\n",
      "('2017', '12', 75997.92000000001)\n",
      "('2018', '01', 82577.81999999999)\n",
      "('2018', '02', 78065.24999999991)\n",
      "('2018', '03', 96924.9599999999)\n",
      "('2018', '04', 103725.30999999995)\n",
      "('2018', '05', 122690.74999999978)\n",
      "('2018', '06', 131673.82999999987)\n",
      "('2018', '07', 153656.49999999994)\n",
      "('2018', '08', 490.77)\n"
     ]
    }
   ],
   "source": [
    "def monthly_net_revenue():    \n",
    "    cur.execute(\"SELECT strftime('%Y', cc.added) AS year \\\n",
    "                        ,strftime('%m', cc.added) AS month\\\n",
    "                        ,SUM(MIN(1.0 * pp.fee * booking_total, 50)        \\\n",
    "                            + 1.0 * ss.fee * booking_total) 'Net Revenue' \\\n",
    "                FROM conversations_conversation cc \\\n",
    "                LEFT JOIN people_person pp      \\\n",
    "                ON cc.requester_id = pp.id      \\\n",
    "                LEFT JOIN services_service ss   \\\n",
    "                ON cc.service_id = ss.id        \\\n",
    "                WHERE booked_at IS NOT NULL     \\\n",
    "                    AND cancelled_at IS NULL    \\\n",
    "                GROUP BY 1, 2                   \\\n",
    "                ORDER BY 1 ASC, 2 ASC\")        \n",
    "    rows = cur.fetchall()\n",
    " \n",
    "    for row in rows:\n",
    "        print(row)\n",
    "\n",
    "monthly_net_revenue();"
   ]
  },
  {
   "cell_type": "markdown",
   "metadata": {},
   "source": [
    ">2. Define take rate to be the percentage of gross billings that is net revenue. In the previous example, the take rate is slightly more than 19% since \\$20/\\$105 is approximately 0.1905. In each month, what was the aggregate take rate?"
   ]
  },
  {
   "cell_type": "code",
   "execution_count": 9,
   "metadata": {},
   "outputs": [
    {
     "name": "stdout",
     "output_type": "stream",
     "text": [
      "('2016', '08', 16.66666666666666)\n",
      "('2016', '09', 16.666666666666657)\n",
      "('2016', '10', 16.666666666666668)\n",
      "('2016', '11', 16.66666666666668)\n",
      "('2016', '12', 16.8669711294501)\n",
      "('2017', '01', 18.565829752609474)\n",
      "('2017', '02', 18.57106941528732)\n",
      "('2017', '03', 18.70707968363606)\n",
      "('2017', '04', 18.768084598911788)\n",
      "('2017', '05', 18.862937457974713)\n",
      "('2017', '06', 19.4755181549835)\n",
      "('2017', '07', 20.256746550719924)\n",
      "('2017', '08', 20.78130554422597)\n",
      "('2017', '09', 21.536723004757395)\n",
      "('2017', '10', 21.693944296159316)\n",
      "('2017', '11', 21.74757770024585)\n",
      "('2017', '12', 22.79486011026361)\n",
      "('2018', '01', 23.195735377593156)\n",
      "('2018', '02', 23.336880763016232)\n",
      "('2018', '03', 23.43518995241775)\n",
      "('2018', '04', 23.701845409085657)\n",
      "('2018', '05', 23.823388778182544)\n",
      "('2018', '06', 23.960839588000525)\n",
      "('2018', '07', 24.0701298564993)\n",
      "('2018', '08', 24.16193622394974)\n"
     ]
    }
   ],
   "source": [
    "def monthly_take_rate():    \n",
    "    cur.execute(\"SELECT strftime('%Y', cc.added) AS year \\\n",
    "                        ,strftime('%m', cc.added) AS month\\\n",
    "                        ,100 * \\\n",
    "                         (SUM(MIN(1.0 * pp.fee * booking_total, 50) \\\n",
    "                              + 1.0 * ss.fee * booking_total))    \\\n",
    "                         / (SUM(booking_total + MIN(1.0 * pp.fee * booking_total, 50))) \\\n",
    "                         AS 'take rate'    \\\n",
    "                FROM conversations_conversation cc \\\n",
    "                LEFT JOIN people_person pp      \\\n",
    "                ON cc.requester_id = pp.id      \\\n",
    "                LEFT JOIN services_service ss   \\\n",
    "                ON cc.service_id = ss.id        \\\n",
    "                WHERE booked_at IS NOT NULL     \\\n",
    "                    AND cancelled_at IS NULL    \\\n",
    "                GROUP BY 1, 2                   \\\n",
    "                ORDER BY 1 ASC, 2 ASC\")\n",
    "       \n",
    "    rows = cur.fetchall()\n",
    " \n",
    "    for row in rows:\n",
    "        print(row)\n",
    "\n",
    "monthly_take_rate();"
   ]
  },
  {
   "cell_type": "markdown",
   "metadata": {},
   "source": [
    "> 3. Did take rate trend up or trend down or remain unchanged over time?"
   ]
  },
  {
   "cell_type": "code",
   "execution_count": null,
   "metadata": {},
   "outputs": [],
   "source": []
  },
  {
   "cell_type": "markdown",
   "metadata": {},
   "source": [
    "> 4. If it did change, investigate why and provide an explanation. "
   ]
  },
  {
   "cell_type": "markdown",
   "metadata": {},
   "source": [
    "### Search Engine Marketing Analysis <a id='SEMA'></a> \n",
    ">Search engine advertising is a huge driver of new user accounts. Users that are aquired through search engine marketing can be identified by looking at people_person.channel. These users will have 'Google' listed there. Historically, this company spent an average of \\$30 per account to advertise in the 2nd position on Google. However, on `2018-05-04`, they decided to start bidding for the 1st position. Since `2018-05-04`, they have spent \\$207180 in total.\n",
    "\n",
    "* [Data Set](#ds3)        \n",
    "* [Analysis](#ana3)         \n",
    "* Summary"
   ]
  },
  {
   "cell_type": "markdown",
   "metadata": {},
   "source": [
    "#### Data Set <a id='ds3'></a> \n",
    "\n",
    "In this analysis, we only need to look into people_person table."
   ]
  },
  {
   "cell_type": "code",
   "execution_count": 10,
   "metadata": {},
   "outputs": [
    {
     "name": "stdout",
     "output_type": "stream",
     "text": [
      "(1, 'Leanora', 'Allcock', 'leanora.allcock635@hotmail.com', '', '2016-08-02 14:59:15.095591', 'https://placekitten.com/242/269', 0, 'f')\n",
      "(2, 'Elroy', 'Blanding', 'elroy.blanding510@yahoo.com', '', '2016-08-02 18:15:30.105940', 'https://placekitten.com/373/320', 0, 'm')\n",
      "(3, 'Jeanice', 'Aleman', 'jeanice.aleman392@hotmail.com', '', '2016-08-02 16:11:09.542004', 'https://placekitten.com/238/264', 0, 'f')\n",
      "(4, 'Tamala', 'Polhamus', 'tamala.polhamus146@aol.com', '', '2016-08-02 18:02:40.389299', 'https://placekitten.com/220/223', 0, 'f')\n",
      "(5, 'Alethea', 'Gubler', 'alethea.gubler708@aol.com', '', '2016-08-02 14:31:53.163034', 'https://placekitten.com/284/339', 0, 'f')\n",
      "(6, 'Milly', 'Degre', 'milly.degre525@rover.com', '', '2016-08-02 12:47:16.876553', 'https://placekitten.com/396/278', 0, 'f')\n",
      "(7, 'Yvonne', 'Guiney', 'yvonne.guiney923@aol.com', '', '2016-08-02 11:00:13.934802', 'https://placekitten.com/324/200', 0, 'f')\n",
      "(8, 'Irving', 'Kaetzel', 'irving.kaetzel198@aol.com', '', '2016-08-02 16:34:45.652757', 'https://placekitten.com/277/298', 0, 'm')\n",
      "(9, 'Alba', 'Hanagami', 'alba.hanagami642@aol.com', '', '2016-08-02 10:14:31.431132', 'https://placekitten.com/253/335', 0, 'f')\n",
      "(10, 'Edna', 'Flournay', 'edna.flournay993@hotmail.com', '', '2016-08-02 13:22:15.629846', 'https://placekitten.com/288/209', 0, 'f')\n"
     ]
    }
   ],
   "source": [
    "show_people();"
   ]
  },
  {
   "cell_type": "markdown",
   "metadata": {},
   "source": [
    "#### Analysis\n",
    ">1. For each day, determine the count of users that joined and were acquired through Google. Plot this and confirm there is an inflection point on or near `2018-05-04`."
   ]
  },
  {
   "cell_type": "code",
   "execution_count": 11,
   "metadata": {},
   "outputs": [
    {
     "ename": "SyntaxError",
     "evalue": "invalid syntax (<ipython-input-11-23acf672538f>, line 1)",
     "output_type": "error",
     "traceback": [
      "\u001b[0;36m  File \u001b[0;32m\"<ipython-input-11-23acf672538f>\"\u001b[0;36m, line \u001b[0;32m1\u001b[0m\n\u001b[0;31m    SELECT DATE(date_joined), COUNT(*)\u001b[0m\n\u001b[0m              ^\u001b[0m\n\u001b[0;31mSyntaxError\u001b[0m\u001b[0;31m:\u001b[0m invalid syntax\n"
     ]
    }
   ],
   "source": [
    "SELECT DATE(date_joined), COUNT(*)\n",
    "FROM people_person\n",
    "WHERE channel = 'Google'\n",
    "GROUP BY 1\n",
    "ORDER BY 1 ASC;"
   ]
  },
  {
   "cell_type": "markdown",
   "metadata": {},
   "source": [
    ">2. How many users were acquired via Google advertising since `2018-05-04` and what was the average cost per account?"
   ]
  },
  {
   "cell_type": "code",
   "execution_count": null,
   "metadata": {},
   "outputs": [],
   "source": []
  },
  {
   "cell_type": "markdown",
   "metadata": {},
   "source": [
    ">3. Estimate how many users would have been acquired had the company not changed its bidding strategy. What would have been the marketing spend in that case?"
   ]
  },
  {
   "cell_type": "code",
   "execution_count": null,
   "metadata": {},
   "outputs": [],
   "source": []
  },
  {
   "cell_type": "markdown",
   "metadata": {},
   "source": [
    ">4. How many additional accounts where created? What was the marginal cost per account for these additional accounts?"
   ]
  },
  {
   "cell_type": "code",
   "execution_count": null,
   "metadata": {},
   "outputs": [],
   "source": []
  },
  {
   "cell_type": "markdown",
   "metadata": {},
   "source": [
    "## Conclution "
   ]
  },
  {
   "cell_type": "markdown",
   "metadata": {},
   "source": []
  },
  {
   "cell_type": "code",
   "execution_count": null,
   "metadata": {},
   "outputs": [],
   "source": []
  },
  {
   "cell_type": "code",
   "execution_count": null,
   "metadata": {},
   "outputs": [],
   "source": []
  }
 ],
 "metadata": {
  "kernelspec": {
   "display_name": "Python 3",
   "language": "python",
   "name": "python3"
  },
  "language_info": {
   "codemirror_mode": {
    "name": "ipython",
    "version": 3
   },
   "file_extension": ".py",
   "mimetype": "text/x-python",
   "name": "python",
   "nbconvert_exporter": "python",
   "pygments_lexer": "ipython3",
   "version": "3.6.5"
  }
 },
 "nbformat": 4,
 "nbformat_minor": 2
}
